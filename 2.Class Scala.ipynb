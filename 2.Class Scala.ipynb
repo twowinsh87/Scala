{
 "cells": [
  {
   "cell_type": "markdown",
   "metadata": {},
   "source": [
    "## [1]AMMONITE REPL\n",
    "- 기본 REPL 보다 좋고, 스칼라 스트립트를 지원함\n",
    "- brew install ammonite-repl"
   ]
  },
  {
   "cell_type": "markdown",
   "metadata": {},
   "source": [
    "## [2]Class 정의하기, Class를 이용해 Object 만들기"
   ]
  },
  {
   "cell_type": "code",
   "execution_count": 2,
   "metadata": {},
   "outputs": [
    {
     "name": "stderr",
     "output_type": "stream",
     "text": [
      "cmd2.sc:7: not found: value Person\n",
      "val res2_1 = Person //Object와 다르게 Class 정의만으로 만들 수 없다.\n",
      "             ^"
     ]
    },
    {
     "ename": "",
     "evalue": "",
     "output_type": "error",
     "traceback": [
      "Compilation Failed"
     ]
    }
   ],
   "source": [
    "class Person{\n",
    "    val firstName = \"Martin\"\n",
    "    val lastName = \"Odersky\"\n",
    "    def name = firstName + \"\" + lastName\n",
    "}\n",
    "\n",
    "Person //Object와 다르게 Class 정의만으로 만들 수 없다.\n"
   ]
  },
  {
   "cell_type": "code",
   "execution_count": 23,
   "metadata": {},
   "outputs": [
    {
     "data": {
      "text/plain": [
       "defined \u001b[32mobject\u001b[39m \u001b[36mobj_Person\u001b[39m\n",
       "\u001b[36mres22_1\u001b[39m: \u001b[32mwrapper\u001b[39m.\u001b[32mwrapper\u001b[39m.\u001b[32mobj_Person\u001b[39m.type = $sess.cmd22Wrapper$Helper$obj_Person$@4fb38e29"
      ]
     },
     "execution_count": 23,
     "metadata": {},
     "output_type": "execute_result"
    }
   ],
   "source": [
    "object obj_Person{\n",
    "    \n",
    "}\n",
    "obj_Person //object는 정의만으로 만들 수 있다."
   ]
  },
  {
   "cell_type": "code",
   "execution_count": 4,
   "metadata": {},
   "outputs": [
    {
     "data": {
      "text/plain": [
       "\u001b[36mmartin\u001b[39m: \u001b[32mPerson\u001b[39m = $sess.cmd0Wrapper$Helper$Person@44a0209f\n",
       "\u001b[36mmartin2\u001b[39m: \u001b[32mPerson\u001b[39m = $sess.cmd0Wrapper$Helper$Person@53b41917\n",
       "\u001b[36mres3_2\u001b[39m: \u001b[32mString\u001b[39m = \u001b[32m\"Martin\"\u001b[39m"
      ]
     },
     "execution_count": 4,
     "metadata": {},
     "output_type": "execute_result"
    }
   ],
   "source": [
    "val martin = new Person\n",
    "val martin2 = new Person\n",
    "\n",
    "martin.firstName"
   ]
  },
  {
   "cell_type": "code",
   "execution_count": 8,
   "metadata": {},
   "outputs": [
    {
     "data": {
      "text/plain": [
       "defined \u001b[32mobject\u001b[39m \u001b[36mgreeter\u001b[39m"
      ]
     },
     "execution_count": 8,
     "metadata": {},
     "output_type": "execute_result"
    }
   ],
   "source": [
    "object greeter{\n",
    "    def greet(p: Person) = \"Greeting,\" + p.firstName + \" \" + p.lastName\n",
    "}"
   ]
  },
  {
   "cell_type": "code",
   "execution_count": 9,
   "metadata": {},
   "outputs": [
    {
     "data": {
      "text/plain": [
       "\u001b[36mres8_0\u001b[39m: \u001b[32mString\u001b[39m = \u001b[32m\"Greeting,Martin Odersky\"\u001b[39m\n",
       "\u001b[36mres8_1\u001b[39m: \u001b[32mString\u001b[39m = \u001b[32m\"Greeting,Martin Odersky\"\u001b[39m"
      ]
     },
     "execution_count": 9,
     "metadata": {},
     "output_type": "execute_result"
    }
   ],
   "source": [
    "greeter.greet(martin)\n",
    "greeter.greet(martin2)"
   ]
  },
  {
   "cell_type": "markdown",
   "metadata": {},
   "source": [
    "## [3]기본 생성자(CONSTRUCTOR)\n",
    "- 클래스에서 val 선언시 바로 필드가 된다.(자바에서는 모두 구현해야 하는데)"
   ]
  },
  {
   "cell_type": "code",
   "execution_count": 10,
   "metadata": {},
   "outputs": [
    {
     "data": {
      "text/plain": [
       "defined \u001b[32mclass\u001b[39m \u001b[36mPerson\u001b[39m\n",
       "\u001b[36mseungha\u001b[39m: \u001b[32mwrapper\u001b[39m.\u001b[32mwrapper\u001b[39m.\u001b[32mPerson\u001b[39m = $sess.cmd9Wrapper$Helper$Person@2d86ed41\n",
       "\u001b[36mres9_2\u001b[39m: \u001b[32mString\u001b[39m = \u001b[32m\"Seungha Lee\"\u001b[39m"
      ]
     },
     "execution_count": 10,
     "metadata": {},
     "output_type": "execute_result"
    }
   ],
   "source": [
    "//기본 버전\n",
    "class Person(first: String, last: String){\n",
    "    val firstName = first\n",
    "    val lastName = last\n",
    "    def name = firstName + \" \" + lastName\n",
    "}\n",
    "\n",
    "val seungha = new Person(\"Seungha\", \"Lee\")\n",
    "\n",
    "seungha.name"
   ]
  },
  {
   "cell_type": "code",
   "execution_count": 25,
   "metadata": {},
   "outputs": [
    {
     "data": {
      "text/plain": [
       "defined \u001b[32mclass\u001b[39m \u001b[36mPerson\u001b[39m\n",
       "\u001b[36mseungha1\u001b[39m: \u001b[32mwrapper\u001b[39m.\u001b[32mwrapper\u001b[39m.\u001b[32mPerson\u001b[39m = $sess.cmd24Wrapper$Helper$Person@f57eb1b\n",
       "\u001b[36mres24_2\u001b[39m: \u001b[32mString\u001b[39m = \u001b[32m\"Seungha1 LEE\"\u001b[39m"
      ]
     },
     "execution_count": 25,
     "metadata": {},
     "output_type": "execute_result"
    }
   ],
   "source": [
    "//더 축약 버전\n",
    "class Person(val firstName: String, val lastName: String){\n",
    "    def name = firstName + \" \" + lastName\n",
    "}\n",
    "\n",
    "val seungha1 = new Person(\"Seungha1\", \"LEE\")\n",
    "\n",
    "seungha1.name"
   ]
  },
  {
   "cell_type": "markdown",
   "metadata": {},
   "source": [
    "### (1) keyword parameter & default parameter values\n",
    "- default 파라미터의 경우 가장 마지막에 넣자. ex) \"!\""
   ]
  },
  {
   "cell_type": "code",
   "execution_count": 21,
   "metadata": {},
   "outputs": [
    {
     "data": {
      "text/plain": [
       "defined \u001b[32mclass\u001b[39m \u001b[36mPerson\u001b[39m\n",
       "\u001b[36mseungha2\u001b[39m: \u001b[32mwrapper\u001b[39m.\u001b[32mwrapper\u001b[39m.\u001b[32mPerson\u001b[39m = $sess.cmd20Wrapper$Helper$Person@631825f6\n",
       "\u001b[36mseungha3\u001b[39m: \u001b[32mwrapper\u001b[39m.\u001b[32mwrapper\u001b[39m.\u001b[32mPerson\u001b[39m = $sess.cmd20Wrapper$Helper$Person@1c28a7b2\n",
       "\u001b[36mres20_3\u001b[39m: \u001b[32mString\u001b[39m = \u001b[32m\"First LAST\"\u001b[39m\n",
       "\u001b[36mres20_4\u001b[39m: \u001b[32mString\u001b[39m = \u001b[32m\"Seungha !\"\u001b[39m\n",
       "\u001b[36mres20_5\u001b[39m: \u001b[32mString\u001b[39m = \u001b[32m\"Seungha2 LEE\"\u001b[39m\n",
       "\u001b[36mres20_6\u001b[39m: \u001b[32mString\u001b[39m = \u001b[32m\"Seingha3 !\"\u001b[39m"
      ]
     },
     "execution_count": 21,
     "metadata": {},
     "output_type": "execute_result"
    }
   ],
   "source": [
    "//lastName에 디폴트 값을 주자\n",
    "class Person(val firstName: String, val lastName: String = \"!\"){\n",
    "    def name = firstName + \" \" + lastName\n",
    "}\n",
    "\n",
    "val seungha2 = new Person(\"Seungha2\", \"LEE\")\n",
    "val seungha3 = new Person(\"Seingha3\") //두번째 인자값을 넣지 않음\n",
    "\n",
    "\n",
    "new Person(lastName =\"LAST\", firstName = \"First\").name\n",
    "//res값.name 해도 같은 결과값\n",
    "\n",
    "new Person(\"Seungha\").name\n",
    "\n",
    "seungha2.name\n",
    "seungha3.name //결과 값을 보자. 인자를 넘기지 않으니 디폴트 값이 들어갔다."
   ]
  },
  {
   "cell_type": "markdown",
   "metadata": {},
   "source": [
    "## [4]apply\n",
    "- apply 메소드를 사용하면 클래스나 객체의 용도가 주로 하나만 있는 경우를 편하게 표현할 수 있다."
   ]
  },
  {
   "cell_type": "code",
   "execution_count": 1,
   "metadata": {},
   "outputs": [
    {
     "data": {
      "text/plain": [
       "defined \u001b[32mclass\u001b[39m \u001b[36mAdder\u001b[39m"
      ]
     },
     "execution_count": 1,
     "metadata": {},
     "output_type": "execute_result"
    }
   ],
   "source": [
    "class Adder(amount: Int){\n",
    "    def apply(in: Int): Int = in + amount\n",
    "}"
   ]
  },
  {
   "cell_type": "code",
   "execution_count": 8,
   "metadata": {},
   "outputs": [
    {
     "name": "stderr",
     "output_type": "stream",
     "text": [
      "cmd8.sc:2: missing argument list for method apply in class Adder\n",
      "Unapplied methods are only converted to functions when a function type is expected.\n",
      "You can make this conversion explicit by writing `apply _` or `apply(_)` instead of `apply`.\n",
      "val res8_1 = add3.apply\n",
      "                  ^"
     ]
    },
    {
     "ename": "",
     "evalue": "",
     "output_type": "error",
     "traceback": [
      "Compilation Failed"
     ]
    }
   ],
   "source": [
    "val add3 = new Adder(3) // 3을 인자로 받은 add3가 생성"
   ]
  },
  {
   "cell_type": "code",
   "execution_count": 5,
   "metadata": {},
   "outputs": [
    {
     "data": {
      "text/plain": [
       "\u001b[36mres4\u001b[39m: \u001b[32mInt\u001b[39m = \u001b[32m5\u001b[39m"
      ]
     },
     "execution_count": 5,
     "metadata": {},
     "output_type": "execute_result"
    }
   ],
   "source": [
    "//apply(예약어임)로 인해서, 즉 생성자 이후에 인자로 던지는 (2) 값이 apply에 적용\n",
    "add3(2)"
   ]
  },
  {
   "cell_type": "code",
   "execution_count": 9,
   "metadata": {},
   "outputs": [
    {
     "data": {
      "text/plain": [
       "defined \u001b[32mclass\u001b[39m \u001b[36mAvengers\u001b[39m\n",
       "\u001b[36mCaptainAmerica\u001b[39m: \u001b[32mAvengers\u001b[39m = $sess.cmd8Wrapper$Helper$Avengers@7c186704\n",
       "\u001b[36mIronMan\u001b[39m: \u001b[32mAvengers\u001b[39m = $sess.cmd8Wrapper$Helper$Avengers@3211e907\n",
       "\u001b[36mHulk\u001b[39m: \u001b[32mAvengers\u001b[39m = $sess.cmd8Wrapper$Helper$Avengers@17edd243\n",
       "\u001b[36mThor\u001b[39m: \u001b[32mAvengers\u001b[39m = $sess.cmd8Wrapper$Helper$Avengers@1f0c5174"
      ]
     },
     "execution_count": 9,
     "metadata": {},
     "output_type": "execute_result"
    }
   ],
   "source": [
    "class Avengers(val realName: String, val position: String)\n",
    "\n",
    "val CaptainAmerica = new Avengers(\"Steve Rogers\", \"Leader\")\n",
    "val IronMan = new Avengers(\"Tony Stark\", \"Range Deler\")\n",
    "val Hulk = new Avengers(\"Bruce Banner\", \"Tanker\")\n",
    "val Thor = new Avengers(\"Thor Odinson\", \"GOD\")"
   ]
  },
  {
   "cell_type": "code",
   "execution_count": 15,
   "metadata": {},
   "outputs": [
    {
     "data": {
      "text/plain": [
       "defined \u001b[32mclass\u001b[39m \u001b[36mGodCheck\u001b[39m"
      ]
     },
     "execution_count": 15,
     "metadata": {},
     "output_type": "execute_result"
    }
   ],
   "source": [
    "class GodCheck{\n",
    "    def inspect(avengers: Avengers): String\n",
    "    = if(avengers.position.toLowerCase == \"god\") \"God!\"\n",
    "        else \"Mere mortal\"\n",
    "}"
   ]
  },
  {
   "cell_type": "code",
   "execution_count": 21,
   "metadata": {},
   "outputs": [
    {
     "name": "stdout",
     "output_type": "stream",
     "text": [
      "Mere mortal\n",
      "God!\n",
      "false\n",
      "true\n"
     ]
    }
   ],
   "source": [
    "println(GodCheck.inspect(IronMan))\n",
    "println(GodCheck.inspect(Thor))\n",
    "println(GodCheck.inspect(IronMan)== \"God!\")\n",
    "println(GodCheck.inspect(Thor)== \"God!\")"
   ]
  },
  {
   "attachments": {
    "%E1%84%89%E1%85%B3%E1%84%8F%E1%85%B3%E1%84%85%E1%85%B5%E1%86%AB%E1%84%89%E1%85%A3%E1%86%BA%202018-05-10%20%E1%84%8B%E1%85%A9%E1%84%8C%E1%85%A5%E1%86%AB%2010.45.37.png": {
     "image/png": "[encoded data removed]"
    }
   },
   "cell_type": "markdown",
   "metadata": {},
   "source": [
    "## [5]Scala Type Hierarchy\n",
    "![%E1%84%89%E1%85%B3%E1%84%8F%E1%85%B3%E1%84%85%E1%85%B5%E1%86%AB%E1%84%89%E1%85%A3%E1%86%BA%202018-05-10%20%E1%84%8B%E1%85%A9%E1%84%8C%E1%85%A5%E1%86%AB%2010.45.37.png](attachment:%E1%84%89%E1%85%B3%E1%84%8F%E1%85%B3%E1%84%85%E1%85%B5%E1%86%AB%E1%84%89%E1%85%A3%E1%86%BA%202018-05-10%20%E1%84%8B%E1%85%A9%E1%84%8C%E1%85%A5%E1%86%AB%2010.45.37.png)\n",
    "\n",
    "- Nothing은 모든 타입들의 하위 타입이다\n",
    "- Null은 List, Option Class의 하위 타입이며, Scala에서는 사용을 지양한다"
   ]
  },
  {
   "cell_type": "markdown",
   "metadata": {},
   "source": [
    "## [6]Companion Objects"
   ]
  },
  {
   "cell_type": "code",
   "execution_count": 24,
   "metadata": {},
   "outputs": [
    {
     "data": {
      "text/plain": [
       "defined \u001b[32mclass\u001b[39m \u001b[36mTimestamp\u001b[39m\n",
       "defined \u001b[32mobject\u001b[39m \u001b[36mTimestamp\u001b[39m\n",
       "\u001b[36mres23_2\u001b[39m: \u001b[32mLong\u001b[39m = \u001b[32m3661L\u001b[39m"
      ]
     },
     "execution_count": 24,
     "metadata": {},
     "output_type": "execute_result"
    }
   ],
   "source": [
    "class Timestamp(val seconds: Long)\n",
    "\n",
    "object Timestamp{\n",
    "    def apply(hour: Int, minutes: Int, second: Int): Timestamp =\n",
    "        new Timestamp(hour*60*60 + minutes*60 + second)\n",
    "}\n",
    "\n",
    "//Timestamp 객체가 만들어졌고, (1,1,1)이 예약메소드인 apply에 들어가고 객체가 만들어지면서 계산되고,\n",
    "//Timestamp 클래스로 반환되면서 seconds호출되면서 값이 Long으로 나옴\n",
    "Timestamp(1,1,1).seconds"
   ]
  },
  {
   "cell_type": "code",
   "execution_count": 25,
   "metadata": {},
   "outputs": [
    {
     "data": {
      "text/plain": [
       "\u001b[36mt\u001b[39m: \u001b[32mTimestamp\u001b[39m = $sess.cmd23Wrapper$Helper$Timestamp@7de57865\n",
       "\u001b[36mres24_1\u001b[39m: \u001b[32mLong\u001b[39m = \u001b[32m3661L\u001b[39m"
      ]
     },
     "execution_count": 25,
     "metadata": {},
     "output_type": "execute_result"
    }
   ],
   "source": [
    "val t = Timestamp(1,1,1)\n",
    "t.seconds"
   ]
  },
  {
   "cell_type": "code",
   "execution_count": 26,
   "metadata": {},
   "outputs": [
    {
     "data": {
      "text/plain": [
       "\u001b[36mt2\u001b[39m: \u001b[32mTimestamp\u001b[39m = $sess.cmd23Wrapper$Helper$Timestamp@238ce361\n",
       "\u001b[36mres25_1\u001b[39m: \u001b[32mLong\u001b[39m = \u001b[32m3662L\u001b[39m"
      ]
     },
     "execution_count": 26,
     "metadata": {},
     "output_type": "execute_result"
    }
   ],
   "source": [
    "val t2 = new Timestamp(3662)\n",
    "t2.seconds"
   ]
  },
  {
   "cell_type": "code",
   "execution_count": 29,
   "metadata": {},
   "outputs": [
    {
     "data": {
      "text/plain": [
       "defined \u001b[32mobject\u001b[39m \u001b[36mTimes\u001b[39m\n",
       "defined \u001b[32mclass\u001b[39m \u001b[36mTimes1\u001b[39m\n",
       "\u001b[36mobj_Times\u001b[39m: \u001b[32mwrapper\u001b[39m.\u001b[32mwrapper\u001b[39m.\u001b[32mTimes\u001b[39m.type = $sess.cmd28Wrapper$Helper$Times$@70a09aca\n",
       "\u001b[36mcls_Times1\u001b[39m: \u001b[32mwrapper\u001b[39m.\u001b[32mwrapper\u001b[39m.\u001b[32mTimes1\u001b[39m = $sess.cmd28Wrapper$Helper$Times1@1ce4771e"
      ]
     },
     "execution_count": 29,
     "metadata": {},
     "output_type": "execute_result"
    }
   ],
   "source": [
    "//번외\n",
    "object Times{\n",
    "    \n",
    "}\n",
    "class Times1{\n",
    "    \n",
    "}\n",
    "\n",
    "val obj_Times = Times // new (X)\n",
    "val cls_Times1 = new Times1 // new\n"
   ]
  },
  {
   "cell_type": "markdown",
   "metadata": {},
   "source": [
    "## [7]Case Classes\n",
    "- 기본적으로 불변\n",
    "- 패턴 매칭을 통해 분해가능\n",
    "- 레퍼런스가 아닌 구조적인 동등성으로 비교됨\n",
    "- 초기화와 운영이 간결함"
   ]
  },
  {
   "cell_type": "code",
   "execution_count": 3,
   "metadata": {},
   "outputs": [
    {
     "data": {
      "text/plain": [
       "defined \u001b[32mclass\u001b[39m \u001b[36mPerson\u001b[39m\n",
       "\u001b[36mmartin\u001b[39m: \u001b[32mwrapper\u001b[39m.\u001b[32mwrapper\u001b[39m.\u001b[32mPerson\u001b[39m = \u001b[33mPerson\u001b[39m(\u001b[32m\"Martin\"\u001b[39m, \u001b[32m\"Ordersky\"\u001b[39m)\n",
       "\u001b[36mmartin1\u001b[39m: \u001b[32mwrapper\u001b[39m.\u001b[32mwrapper\u001b[39m.\u001b[32mPerson\u001b[39m = \u001b[33mPerson\u001b[39m(\u001b[32m\"Martin1\"\u001b[39m, \u001b[32m\"Ordersky1\"\u001b[39m)"
      ]
     },
     "execution_count": 3,
     "metadata": {},
     "output_type": "execute_result"
    }
   ],
   "source": [
    "case class Person(firstName: String, lastName: String){\n",
    "    def name = firstName + \" \" + lastName\n",
    "}\n",
    "\n",
    "val martin = new Person(\"Martin\", \"Ordersky\")\n",
    "val martin1 = Person(\"Martin1\", \"Ordersky1\")"
   ]
  },
  {
   "cell_type": "markdown",
   "metadata": {},
   "source": [
    "- case class를 인스턴스화 할 때 new 키워드는 필요없다."
   ]
  },
  {
   "cell_type": "markdown",
   "metadata": {},
   "source": [
    "### Feature 1) FIELD FOR EACH CONSTRUCTOR ARGUMENT"
   ]
  },
  {
   "cell_type": "code",
   "execution_count": 4,
   "metadata": {},
   "outputs": [
    {
     "data": {
      "text/plain": [
       "\u001b[36mres3\u001b[39m: \u001b[32mString\u001b[39m = \u001b[32m\"Martin Ordersky\"\u001b[39m"
      ]
     },
     "execution_count": 4,
     "metadata": {},
     "output_type": "execute_result"
    }
   ],
   "source": [
    "martin.name"
   ]
  },
  {
   "cell_type": "markdown",
   "metadata": {},
   "source": [
    "### Feature  2) DEFAULT TOSTRING METHOD"
   ]
  },
  {
   "cell_type": "code",
   "execution_count": 5,
   "metadata": {},
   "outputs": [
    {
     "data": {
      "text/plain": [
       "\u001b[36mres4\u001b[39m: \u001b[32mPerson\u001b[39m = \u001b[33mPerson\u001b[39m(\u001b[32m\"Martin\"\u001b[39m, \u001b[32m\"Ordersky\"\u001b[39m)"
      ]
     },
     "execution_count": 5,
     "metadata": {},
     "output_type": "execute_result"
    }
   ],
   "source": [
    "martin"
   ]
  },
  {
   "cell_type": "markdown",
   "metadata": {},
   "source": [
    "### Feature 3) DEFAULT EQUALS, HASHCODE METHOD"
   ]
  },
  {
   "cell_type": "code",
   "execution_count": 37,
   "metadata": {},
   "outputs": [
    {
     "data": {
      "text/plain": [
       "\u001b[36mmartinEQ1\u001b[39m: \u001b[32mPerson\u001b[39m = \u001b[33mPerson\u001b[39m(\u001b[32m\"MartinEQ\"\u001b[39m, \u001b[32m\"OderskyEQ\"\u001b[39m)\n",
       "\u001b[36mmartinEQ2\u001b[39m: \u001b[32mPerson\u001b[39m = \u001b[33mPerson\u001b[39m(\u001b[32m\"MartinEQ\"\u001b[39m, \u001b[32m\"OderskyEQ\"\u001b[39m)\n",
       "\u001b[36mres36_2\u001b[39m: \u001b[32mBoolean\u001b[39m = \u001b[32mtrue\u001b[39m\n",
       "\u001b[36mres36_3\u001b[39m: \u001b[32mBoolean\u001b[39m = \u001b[32mtrue\u001b[39m\n",
       "defined \u001b[32mclass\u001b[39m \u001b[36mPerson2\u001b[39m\n",
       "\u001b[36mmartinclass1\u001b[39m: \u001b[32mwrapper\u001b[39m.\u001b[32mwrapper\u001b[39m.\u001b[32mPerson2\u001b[39m = $sess.cmd36Wrapper$Helper$Person2@2890dd13\n",
       "\u001b[36mmartinclass2\u001b[39m: \u001b[32mwrapper\u001b[39m.\u001b[32mwrapper\u001b[39m.\u001b[32mPerson2\u001b[39m = $sess.cmd36Wrapper$Helper$Person2@209c23e5\n",
       "\u001b[36mres36_7\u001b[39m: \u001b[32mBoolean\u001b[39m = \u001b[32mfalse\u001b[39m\n",
       "\u001b[36mres36_8\u001b[39m: \u001b[32mBoolean\u001b[39m = \u001b[32mfalse\u001b[39m"
      ]
     },
     "execution_count": 37,
     "metadata": {},
     "output_type": "execute_result"
    }
   ],
   "source": [
    "val martinEQ1 = Person(\"MartinEQ\", \"OderskyEQ\")\n",
    "val martinEQ2 = Person(\"MartinEQ\", \"OderskyEQ\")\n",
    "\n",
    "//해시코드 toString 값이 같다는 것을 알 수 있음\n",
    "martinEQ1 == martinEQ2 // 보통 자바에서 타입지정자 비교시 쓰는  ==\n",
    "martinEQ1 equals martinEQ2 // 보통 자바에서 인스턴스 비교시 쓰는 object 메소드인 equals\n",
    "\n",
    "\n",
    "\n",
    "// Below is class(Not case class)\n",
    "\n",
    "class Person2(firstName: String, lastName: String){\n",
    "    def name = firstName + \" \" + lastName\n",
    "}\n",
    "\n",
    "val martinclass1 = new Person2(\"Martinclass\", \"Oderskyclass\")\n",
    "val martinclass2 = new Person2(\"Martinclass\", \"Oderskyclass\")\n",
    "\n",
    "martinclass1 == martinclass2\n",
    "martinclass1 equals martinclass2"
   ]
  },
  {
   "cell_type": "markdown",
   "metadata": {},
   "source": [
    "### Feature 4) A COPY METHOD\n"
   ]
  },
  {
   "cell_type": "code",
   "execution_count": 20,
   "metadata": {},
   "outputs": [
    {
     "data": {
      "text/plain": [
       "\u001b[36mres19_0\u001b[39m: \u001b[32mPerson\u001b[39m = \u001b[33mPerson\u001b[39m(\u001b[32m\"Martin\"\u001b[39m, \u001b[32m\"Ordersky\"\u001b[39m)\n",
       "\u001b[36mres19_1\u001b[39m: \u001b[32mPerson\u001b[39m = \u001b[33mPerson\u001b[39m(\u001b[32m\"Martin2\"\u001b[39m, \u001b[32m\"Ordersky\"\u001b[39m)\n",
       "\u001b[36mres19_2\u001b[39m: \u001b[32mPerson\u001b[39m = \u001b[33mPerson\u001b[39m(\u001b[32m\"Martin\"\u001b[39m, \u001b[32m\"Odersky2\"\u001b[39m)\n",
       "\u001b[36mcopymartin\u001b[39m: \u001b[32mPerson\u001b[39m = \u001b[33mPerson\u001b[39m(\u001b[32m\"Martin3\"\u001b[39m, \u001b[32m\"Ordersky\"\u001b[39m)"
      ]
     },
     "execution_count": 20,
     "metadata": {},
     "output_type": "execute_result"
    }
   ],
   "source": [
    "/*\n",
    "case class Person(firstName: String, lastName: String){\n",
    "    def name = firstName + \" \" + lastName\n",
    "}\n",
    "val martin = new Person(\"Martin\", \"Ordersky\")\n",
    "*/\n",
    "martin\n",
    "martin.copy(firstName = \"Martin2\")\n",
    "martin.copy(lastName = \"Odersky2\")\n",
    "val copymartin = martin.copy(firstName = \"Martin3\")"
   ]
  },
  {
   "cell_type": "markdown",
   "metadata": {},
   "source": [
    "### Feature 5) EXTENSIBILITY\n",
    " - Class can extend another class.\n",
    " - Case class can not extend another case class "
   ]
  },
  {
   "cell_type": "markdown",
   "metadata": {},
   "source": [
    "### Case classes example"
   ]
  },
  {
   "cell_type": "code",
   "execution_count": 29,
   "metadata": {},
   "outputs": [
    {
     "data": {
      "text/plain": [
       "defined \u001b[32mclass\u001b[39m \u001b[36mNotification\u001b[39m\n",
       "defined \u001b[32mclass\u001b[39m \u001b[36mEmail\u001b[39m\n",
       "defined \u001b[32mclass\u001b[39m \u001b[36mSMS\u001b[39m\n",
       "defined \u001b[32mclass\u001b[39m \u001b[36mVoiceRecording\u001b[39m"
      ]
     },
     "execution_count": 29,
     "metadata": {},
     "output_type": "execute_result"
    }
   ],
   "source": [
    "abstract class Notification\n",
    "\n",
    "case class Email(sourceEmail: String, title: String, body: String)\n",
    "extends Notification\n",
    "\n",
    "case class SMS(sourceNumber: String, message: String) extends Notification\n",
    "\n",
    "case class VoiceRecording(contactName: String, link: String) extends Notification"
   ]
  },
  {
   "cell_type": "code",
   "execution_count": 26,
   "metadata": {},
   "outputs": [
    {
     "data": {
      "text/plain": [
       "\u001b[36memailFromJohn\u001b[39m: \u001b[32mEmail\u001b[39m = \u001b[33mEmail\u001b[39m(\u001b[32m\"jone.email.com\"\u001b[39m, \u001b[32m\"Greeting From John\"\u001b[39m, \u001b[32m\"Hello World!\"\u001b[39m)"
      ]
     },
     "execution_count": 26,
     "metadata": {},
     "output_type": "execute_result"
    }
   ],
   "source": [
    "// case class를 인스턴트화\n",
    "val emailFromJohn = Email(\"jone.email.com\", \"Greeting From John\", \"Hello World!\")"
   ]
  },
  {
   "cell_type": "code",
   "execution_count": 28,
   "metadata": {},
   "outputs": [
    {
     "name": "stdout",
     "output_type": "stream",
     "text": [
      "Greeting From John\n"
     ]
    },
    {
     "data": {
      "text/plain": [
       "\u001b[36mtitle\u001b[39m: \u001b[32mString\u001b[39m = \u001b[32m\"Greeting From John\"\u001b[39m"
      ]
     },
     "execution_count": 28,
     "metadata": {},
     "output_type": "execute_result"
    }
   ],
   "source": [
    "// case class의 생성자 파라미터는 public 값이며 직접 접근이 가능하다\n",
    "val title = emailFromJohn.title //인스턴스화 객체의 생성자 중 두번째 인자인 title의 값에 직접접근해서 val title에 저장\n",
    "println(title)"
   ]
  },
  {
   "cell_type": "code",
   "execution_count": 29,
   "metadata": {},
   "outputs": [
    {
     "name": "stderr",
     "output_type": "stream",
     "text": [
      "cmd29.sc:1: reassignment to val\n",
      "val res29 = emailFromJohn.title = \"change title\"\n",
      "                                ^"
     ]
    },
    {
     "ename": "",
     "evalue": "",
     "output_type": "error",
     "traceback": [
      "Compilation Failed"
     ]
    }
   ],
   "source": [
    "// case class의 필드는 직접 수정할 수 없다. 컴파일시 에러가 남.\n",
    "// case class의 필드는 기본적으로 val이다. 그러므로 다른 값을 할당 할 수 없다.\n",
    "emailFromJohn.title = \"change title\"\n"
   ]
  },
  {
   "cell_type": "code",
   "execution_count": 31,
   "metadata": {},
   "outputs": [
    {
     "name": "stdout",
     "output_type": "stream",
     "text": [
      "Email(jone.email.com,I am learning Scala,It's really hard)\n"
     ]
    },
    {
     "data": {
      "text/plain": [
       "\u001b[36meditedEmail\u001b[39m: \u001b[32mwrapper\u001b[39m.\u001b[32mcmd25\u001b[39m.\u001b[32mcmd24\u001b[39m.\u001b[32mwrapper\u001b[39m.\u001b[32mEmail\u001b[39m = \u001b[33mEmail\u001b[39m(\u001b[32m\"jone.email.com\"\u001b[39m, \u001b[32m\"I am learning Scala\"\u001b[39m, \u001b[32m\"It's really hard\"\u001b[39m)"
      ]
     },
     "execution_count": 31,
     "metadata": {},
     "output_type": "execute_result"
    }
   ],
   "source": [
    "// case class의 copy 메서드를 통해서 필드를 대체할 수 있다.\n",
    "val editedEmail = emailFromJohn.copy(title=\"I am learning Scala\", body =\"It's really hard\")\n",
    "println(editedEmail)\n",
    "\n",
    "// title과 body값이 바뀜. 변경된 필드값을 가진 ediredEmail 이라는 객체가 생성되었다."
   ]
  },
  {
   "cell_type": "markdown",
   "metadata": {},
   "source": [
    "## [8]Pattern Matching"
   ]
  },
  {
   "cell_type": "code",
   "execution_count": 38,
   "metadata": {},
   "outputs": [
    {
     "data": {
      "text/plain": [
       "defined \u001b[32mclass\u001b[39m \u001b[36mPerson\u001b[39m"
      ]
     },
     "execution_count": 38,
     "metadata": {},
     "output_type": "execute_result"
    }
   ],
   "source": [
    "case class Person(firstName: String, lastName: String)"
   ]
  },
  {
   "cell_type": "code",
   "execution_count": 39,
   "metadata": {},
   "outputs": [
    {
     "data": {
      "text/plain": [
       "defined \u001b[32mobject\u001b[39m \u001b[36mStomrooper\u001b[39m"
      ]
     },
     "execution_count": 39,
     "metadata": {},
     "output_type": "execute_result"
    }
   ],
   "source": [
    "object Stomrooper{\n",
    "    def inspect(person: Person):String = person match {\n",
    "        case Person(\"Luke\", \"Skywalker\") => \"Stop, rebel scum!\"\n",
    "        case Person(\"Han\", \"Solo\") => \"Stop, rebel scum!\"\n",
    "        case Person(first, last) => s\"Move along, $first\"\n",
    "    }\n",
    "}"
   ]
  },
  {
   "cell_type": "code",
   "execution_count": 42,
   "metadata": {},
   "outputs": [
    {
     "data": {
      "text/plain": [
       "\u001b[36mres41_0\u001b[39m: \u001b[32mString\u001b[39m = \u001b[32m\"Move along, Martin\"\u001b[39m\n",
       "\u001b[36mres41_1\u001b[39m: \u001b[32mString\u001b[39m = \u001b[32m\"Stop, rebel scum!\"\u001b[39m"
      ]
     },
     "execution_count": 42,
     "metadata": {},
     "output_type": "execute_result"
    }
   ],
   "source": [
    "Stomrooper.inspect(Person(\"Martin\", \"Odersky\"))\n",
    "Stomrooper.inspect(Person(\"Luke\", \"Skywalker\"))"
   ]
  },
  {
   "cell_type": "markdown",
   "metadata": {},
   "source": [
    "## Pattern Matching Example"
   ]
  },
  {
   "cell_type": "code",
   "execution_count": 43,
   "metadata": {},
   "outputs": [
    {
     "data": {
      "text/plain": [
       "defined \u001b[32mclass\u001b[39m \u001b[36mAvengers\u001b[39m\n",
       "\u001b[36mCaptainAmerica\u001b[39m: \u001b[32mAvengers\u001b[39m = \u001b[33mAvengers\u001b[39m(\u001b[32m\"Steve Rogers\"\u001b[39m, \u001b[32m\"Leader\"\u001b[39m)\n",
       "\u001b[36mIronMan\u001b[39m: \u001b[32mAvengers\u001b[39m = \u001b[33mAvengers\u001b[39m(\u001b[32m\"Tony Stark\"\u001b[39m, \u001b[32m\"Range Deler\"\u001b[39m)\n",
       "\u001b[36mHulk\u001b[39m: \u001b[32mAvengers\u001b[39m = \u001b[33mAvengers\u001b[39m(\u001b[32m\"Bruce Banner\"\u001b[39m, \u001b[32m\"Tanker\"\u001b[39m)\n",
       "\u001b[36mThor\u001b[39m: \u001b[32mAvengers\u001b[39m = \u001b[33mAvengers\u001b[39m(\u001b[32m\"Thor Odinson\"\u001b[39m, \u001b[32m\"God\"\u001b[39m)"
      ]
     },
     "execution_count": 43,
     "metadata": {},
     "output_type": "execute_result"
    }
   ],
   "source": [
    "case class Avengers(realName: String, position: String)\n",
    "\n",
    "val CaptainAmerica = Avengers(\"Steve Rogers\", \"Leader\")\n",
    "val IronMan = Avengers(\"Tony Stark\", \"Range Deler\")\n",
    "val Hulk = Avengers(\"Bruce Banner\", \"Tanker\")\n",
    "val Thor = Avengers(\"Thor Odinson\", \"God\")"
   ]
  },
  {
   "cell_type": "code",
   "execution_count": 44,
   "metadata": {},
   "outputs": [
    {
     "data": {
      "text/plain": [
       "defined \u001b[32mobject\u001b[39m \u001b[36mGodFollower\u001b[39m"
      ]
     },
     "execution_count": 44,
     "metadata": {},
     "output_type": "execute_result"
    }
   ],
   "source": [
    "object GodFollower {\n",
    "    def inspect(avenger: Avengers): String = avenger match{\n",
    "        case Avengers(_, \"God\") => \"Oh my god\"\n",
    "        case _ => \"Mere mortal\"\n",
    "    }\n",
    "}"
   ]
  },
  {
   "cell_type": "code",
   "execution_count": 46,
   "metadata": {},
   "outputs": [
    {
     "name": "stdout",
     "output_type": "stream",
     "text": [
      "Mere mortal\n",
      "Oh my god\n"
     ]
    }
   ],
   "source": [
    "println(GodFollower.inspect(CaptainAmerica))\n",
    "println(GodFollower.inspect(Thor))"
   ]
  },
  {
   "cell_type": "code",
   "execution_count": 49,
   "metadata": {},
   "outputs": [
    {
     "data": {
      "text/plain": [
       "defined \u001b[32mclass\u001b[39m \u001b[36mMusic\u001b[39m\n",
       "defined \u001b[32mclass\u001b[39m \u001b[36mAuthor\u001b[39m"
      ]
     },
     "execution_count": 49,
     "metadata": {},
     "output_type": "execute_result"
    }
   ],
   "source": [
    "case class Music(title: String, author: Author)\n",
    "case class Author(firstName: String, lastName: String)"
   ]
  },
  {
   "cell_type": "code",
   "execution_count": 55,
   "metadata": {},
   "outputs": [
    {
     "data": {
      "text/plain": [
       "defined \u001b[32mobject\u001b[39m \u001b[36mMusicPlayer\u001b[39m"
      ]
     },
     "execution_count": 55,
     "metadata": {},
     "output_type": "execute_result"
    }
   ],
   "source": [
    "object MusicPlayer {\n",
    "    def play(music: Music): String = music match{\n",
    "        case Music(title, Author(_, \"Mozart\")) => s\"$title by Mozart\"\n",
    "        case Music(t, Author(f, s)) => s\"$t by $f $s\"\n",
    "    }\n",
    "}"
   ]
  },
  {
   "cell_type": "code",
   "execution_count": 59,
   "metadata": {},
   "outputs": [
    {
     "name": "stdout",
     "output_type": "stream",
     "text": [
      "Requim by Mozart\n",
      "애국가 by 익태 안\n"
     ]
    },
    {
     "data": {
      "text/plain": [
       "\u001b[36mMusic1\u001b[39m: \u001b[32mMusic\u001b[39m = Music(Requim,Author(Wolfgang Amodeus,Mozart))\n",
       "\u001b[36mMusic2\u001b[39m: \u001b[32mMusic\u001b[39m = Music(애국가,Author(익태,안))"
      ]
     },
     "execution_count": 59,
     "metadata": {},
     "output_type": "execute_result"
    }
   ],
   "source": [
    "val Music1 = Music(\"Requim\", Author(\"Wolfgang Amodeus\", \"Mozart\"))\n",
    "println(MusicPlayer.play(Music1))\n",
    "\n",
    "val Music2 = Music(\"애국가\", Author(\"익태\", \"안\"))\n",
    "println(MusicPlayer.play(Music2))"
   ]
  },
  {
   "cell_type": "code",
   "execution_count": null,
   "metadata": {
    "collapsed": true
   },
   "outputs": [],
   "source": []
  }
 ],
 "metadata": {
  "kernelspec": {
   "display_name": "Scala",
   "language": "scala",
   "name": "scala"
  },
  "language_info": {
   "codemirror_mode": "text/x-scala",
   "file_extension": ".scala",
   "mimetype": "text/x-scala",
   "name": "scala211",
   "nbconvert_exporter": "script",
   "pygments_lexer": "scala",
   "version": "2.11.11"
  }
 },
 "nbformat": 4,
 "nbformat_minor": 2
}
